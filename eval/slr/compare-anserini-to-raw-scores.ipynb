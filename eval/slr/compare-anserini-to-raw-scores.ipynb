{
 "cells": [
  {
   "cell_type": "code",
   "execution_count": 3,
   "metadata": {},
   "outputs": [
    {
     "name": "stdout",
     "output_type": "stream",
     "text": [
      "0\n",
      "Docs read from: robust04_raw_docs.num_query_glove_stop_lucene_remove_unk_max_len_1500.tsv_repr.tsv\n",
      "Queries read from: ../topics/04.testset_num_query_lower_glove_stop_lucene_remove_unk_max_len_1500.tsv_reprs.tsv\n"
     ]
    }
   ],
   "source": [
    "import numpy as np\n",
    "\n",
    "home_dir = \"/home/lo/Documents/Scriptie/anserini/data/\"\n",
    "slr_file = \"robust04_raw_docs.num_query_glove_stop_lucene_remove_unk_max_len_1500.tsv_repr.tsv\"\n",
    "que_file = \"../topics/04.testset_num_query_lower_glove_stop_lucene_remove_unk_max_len_1500.tsv_reprs.tsv\"\n",
    "\n",
    "def read_tsv_file(file_path):\n",
    "#     print(file.readlines()[0].find(\"\\t\"))\n",
    "    slr_dict = {}\n",
    "    for i, line in enumerate(open(file_path, \"r\")):\n",
    "        slr_dict[line[:line.find(\"\\t\")]] = [float(f) for f in line[line.find(\"\\t\")+1:].replace('\\n', '').split(\" \")]\n",
    "        if i % 50000 == 0:\n",
    "            print(i)\n",
    "        if i != 0 and i % 1000 == 0:\n",
    "            break\n",
    "        \n",
    "#     slr_dict = {line[:line.find(\"\\t\")] : \\\n",
    "#                  [float(f) for f in line[line.find(\"\\t\")+1:].replace('\\n', '').split(\" \")] \\\n",
    "#                  for line in file.readlines()}\n",
    "    return slr_dict\n",
    "\n",
    "def read_query_file(file_path):\n",
    "    file = open(file_path, \"r\")\n",
    "    query_dict = {}\n",
    "    for line in file.readlines():\n",
    "        query_dict[line[:line.find(\"\\t\")]] = [float(f) for f in line[line.find(\"\\t\")+1:].replace('\\n', '').split(\" \")]\n",
    "\n",
    "#     query_dict = {line[:line.find(\"\\t\")] : \\\n",
    "#                   [float(f) for f in line[line.find(\"\\t\")+1:].replace('\\n', '').split(\" \")] \\\n",
    "#                   for line in file.readlines()}\n",
    "    return query_dict\n",
    "\n",
    "docs = read_tsv_file(home_dir + slr_file)\n",
    "print(\"Docs read from: \" + slr_file)\n",
    "queries = read_query_file(home_dir + que_file)\n",
    "print(\"Queries read from: \" + que_file)"
   ]
  },
  {
   "cell_type": "code",
   "execution_count": null,
   "metadata": {},
   "outputs": [],
   "source": [
    "ans_res_file = \"robust04_topic_results/anserini/run_robust04_slr_all_topics.txt\"\n",
    "\n",
    "def load_triples(file_path):\n",
    "    triples = []\n",
    "\n",
    "    for line in open(home_dir + file_path, \"r\"):\n",
    "        vals = line.split(\" \")\n",
    "        triples.append((vals[0], vals[2], vals[4]))\n",
    "    return triples\n",
    "\n",
    "tripples = load_triples(ans_res_file)\n",
    "diff = 0\n",
    "\n",
    "\n",
    "for t in tripples:\n",
    "    found = float(t[2])\n",
    "    gold = 0\n",
    "    try:\n",
    "        gold = np.dot(queries[t[0]], docs[t[1]])\n",
    "    except:\n",
    "        continue\n",
    "    if abs(found - gold) >= 0.01:\n",
    "        print(str(found) + \"\\t\" + str(gold))\n",
    "    else:\n",
    "        diff += abs(found - gold)\n",
    "        \n",
    "print(diff)\n",
    "        \n",
    "\n",
    "# np.dot(docs[\"FT942-561\"], queries[\"301\"])"
   ]
  },
  {
   "cell_type": "code",
   "execution_count": 8,
   "metadata": {},
   "outputs": [
    {
     "data": {
      "text/plain": [
       "5000"
      ]
     },
     "execution_count": 8,
     "metadata": {},
     "output_type": "execute_result"
    }
   ],
   "source": [
    "keys = docs.keys()\n",
    "# print(keys)\n",
    "len(docs[\"FT932-3074\"])"
   ]
  }
 ],
 "metadata": {
  "kernelspec": {
   "display_name": "Python 3",
   "language": "python",
   "name": "python3"
  },
  "language_info": {
   "codemirror_mode": {
    "name": "ipython",
    "version": 3
   },
   "file_extension": ".py",
   "mimetype": "text/x-python",
   "name": "python",
   "nbconvert_exporter": "python",
   "pygments_lexer": "ipython3",
   "version": "3.6.9"
  }
 },
 "nbformat": 4,
 "nbformat_minor": 4
}

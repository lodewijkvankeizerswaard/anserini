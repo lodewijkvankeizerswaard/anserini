{
 "cells": [
  {
   "cell_type": "code",
   "execution_count": 28,
   "metadata": {},
   "outputs": [],
   "source": [
    "import numpy as np\n",
    "import matplotlib.pyplot as plt\n",
    "import random\n",
    "\n",
    "home_dir = \"/home/lo/Documents/Scriptie/anserini/data/\"\n",
    "slr_file = \"robust04_raw_docs.num_query_glove_stop_lucene_remove_unk_max_len_1500.tsv_repr.tsv\"\n",
    "\n",
    "def read_tsv_file(file_path):\n",
    "    slr_dict = {i : 0 for i in range(5000)}\n",
    "    \n",
    "    for i, line in enumerate(open(file_path, \"r\")):\n",
    "        ind = [t for t,v in enumerate(line.split(\" \")) if v != \"0.0\"]\n",
    "        \n",
    "        for t in ind:\n",
    "            slr_dict[t] += 1\n",
    "        \n",
    "#     \n",
    "#         slr_dict[line[:line.find(\"\\t\")]] = [float(f) for f in line[line.find(\"\\t\")+1:].replace('\\n', '').split(\" \")]\n",
    "        if i % 50000 == 0:\n",
    "            print(i)\n",
    "#         if i != 0 and i % 100000 == 0:\n",
    "#             break\n",
    "    return slr_dict\n",
    "\n",
    "def read_tsv_file_k(file_path, k):\n",
    "    slr_dict = {i : 0 for i in range(5000)}\n",
    "    count = 0\n",
    "    \n",
    "    for i, line in enumerate(open(file_path, \"r\")):\n",
    "        if random.random() < k / 528000:\n",
    "            count += 1\n",
    "            ind = [t for t,v in enumerate(line.split(\" \")) if v != \"0.0\"]\n",
    "\n",
    "            for t in ind:\n",
    "                slr_dict[t] += 1\n",
    "        if i % 50000 == 0:\n",
    "            print(str(count/k*100) + \"%\")\n",
    "    return slr_dict"
   ]
  },
  {
   "cell_type": "code",
   "execution_count": 5,
   "metadata": {},
   "outputs": [
    {
     "name": "stdout",
     "output_type": "stream",
     "text": [
      "0\n",
      "50000\n",
      "100000\n",
      "150000\n",
      "200000\n",
      "250000\n",
      "300000\n",
      "350000\n",
      "400000\n",
      "450000\n",
      "500000\n"
     ]
    }
   ],
   "source": [
    "file_dict = read_tsv_file(home_dir + slr_file)"
   ]
  },
  {
   "cell_type": "code",
   "execution_count": 30,
   "metadata": {},
   "outputs": [
    {
     "data": {
      "text/plain": [
       "[<matplotlib.lines.Line2D at 0x7fe5fc889c88>]"
      ]
     },
     "execution_count": 30,
     "metadata": {},
     "output_type": "execute_result"
    },
    {
     "data": {
      "image/png": "[encoded data removed]",
      "text/plain": [
       "<Figure size 432x288 with 1 Axes>"
      ]
     },
     "metadata": {
      "needs_background": "light"
     },
     "output_type": "display_data"
    }
   ],
   "source": [
    "file_list = [(k, v) for k,v in file_dict.items()]\n",
    "file_list.sort(key=lambda tup: tup[1], reverse=True)\n",
    "\n",
    "upto = 4999\n",
    "\n",
    "x_ax = np.linspace(0,upto,upto + 1)\n",
    "y_sx = [pair[1] for pair in file_list[0:upto + 1]]\n",
    "\n",
    "plt.plot(x_ax, y_sx, 'go', markersize=2)\n",
    "# # x_vals = []\n",
    "# y_vals = []\n",
    "\n",
    "# for val in file_dict:\n",
    "#     y_vals.append(val)\n",
    "#     x_vals.append(file_dict[val])\n",
    "\n",
    "# plt.plot(x_vals, y_vals)"
   ]
  },
  {
   "cell_type": "code",
   "execution_count": 29,
   "metadata": {},
   "outputs": [
    {
     "name": "stdout",
     "output_type": "stream",
     "text": [
      "0.0%\n",
      "0.972%\n",
      "1.995%\n",
      "2.9360000000000004%\n",
      "3.871%\n",
      "4.809%\n",
      "5.769%\n",
      "6.69%\n",
      "7.6160000000000005%\n",
      "8.58%\n",
      "9.544%\n"
     ]
    }
   ],
   "source": [
    "file_dict_k = read_tsv_file_k(home_dir + slr_file, 10000)"
   ]
  },
  {
   "cell_type": "code",
   "execution_count": 31,
   "metadata": {},
   "outputs": [
    {
     "data": {
      "text/plain": [
       "[<matplotlib.lines.Line2D at 0x7fe5fc6d7588>]"
      ]
     },
     "execution_count": 31,
     "metadata": {},
     "output_type": "execute_result"
    },
    {
     "data": {
      "image/png": "[encoded data removed]",
      "text/plain": [
       "<Figure size 432x288 with 1 Axes>"
      ]
     },
     "metadata": {
      "needs_background": "light"
     },
     "output_type": "display_data"
    }
   ],
   "source": [
    "file_list_k = [(k, v) for k,v in file_dict_k.items()]\n",
    "file_list_k.sort(key=lambda tup: tup[1], reverse=True)\n",
    "\n",
    "upto = 4999\n",
    "\n",
    "x_ax = np.linspace(0,upto,upto + 1)\n",
    "y_sx = [pair[1] for pair in file_list_k[0:upto + 1]]\n",
    "\n",
    "plt.plot(x_ax, y_sx, 'go', markersize=2)"
   ]
  },
  {
   "cell_type": "code",
   "execution_count": 17,
   "metadata": {},
   "outputs": [
    {
     "data": {
      "text/plain": [
       "[3]"
      ]
     },
     "execution_count": 17,
     "metadata": {},
     "output_type": "execute_result"
    }
   ],
   "source": [
    "bla = [3 ,4, 5]\n",
    "random.sample(bla, 1)"
   ]
  }
 ],
 "metadata": {
  "kernelspec": {
   "display_name": "Python 3",
   "language": "python",
   "name": "python3"
  },
  "language_info": {
   "codemirror_mode": {
    "name": "ipython",
    "version": 3
   },
   "file_extension": ".py",
   "mimetype": "text/x-python",
   "name": "python",
   "nbconvert_exporter": "python",
   "pygments_lexer": "ipython3",
   "version": "3.6.9"
  }
 },
 "nbformat": 4,
 "nbformat_minor": 4
}
